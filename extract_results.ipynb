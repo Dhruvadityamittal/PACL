{
 "cells": [
  {
   "cell_type": "code",
   "execution_count": 3,
   "metadata": {
    "ExecuteTime": {
     "end_time": "2024-10-19T11:23:29.515321Z",
     "start_time": "2024-10-19T11:23:29.505584Z"
    }
   },
   "outputs": [
    {
     "name": "stdout",
     "output_type": "stream",
     "text": [
      "Dataset: wisdm\n",
      "Architecture resnet18\n",
      "\n",
      "Model: EWC\n",
      "0.8342, 0.0084, 0.8482, 0.0067, 0.6271, 0.0400, 0.6566, 0.0449, 0.8121, 0.0143, 0.8482, 0.0076, 0.8659, 0.0146, 0.8067, 0.0207, 0.8280, 0.0103, 0.8378, 0.0099\n"
     ]
    }
   ],
   "source": [
    "import re\n",
    "#           0              1               2         3                 4                     5                6               7                  8                        9\n",
    "model = ['Offline','Online_Finetuning','Edison','G-Baseline','G-Baseline_Contrastive','G-Baseline_NCE','Edison_DeepLSTM', 'Offline_NCE', 'Online_Finetuning_NCE', 'G-Baseline_NCE_WFR','EWC']\n",
    "dataset = ['wisdm','realworld','mhealth','pamap']\n",
    "architecture = ['tinyhar','resnet18','DeepLSTM', 'Edison']\n",
    "\n",
    "model_idxs = [10] #[0,1,3,4,5] #[0,1,3,4,5]\n",
    "dataset_idx = 0\n",
    "architecture_idx = 1\n",
    "\n",
    "print(\"Dataset:\",dataset[dataset_idx])\n",
    "print(\"Architecture\",architecture[architecture_idx])\n",
    "for model_idx in model_idxs:\n",
    "    try:\n",
    "        # data = open(f\"/netscratch/dmittal/continual_learning/Saved_Models/Incremental/{model[model_idx]}/{dataset[dataset_idx]}/results_{dataset[dataset_idx]}_{architecture[architecture_idx]}_session.log\", \"r\")\n",
    "        data = open(f\"/netscratch/dmittal/continual_learning/Saved_Models/Incremental/EWC/realworld/results_realworld_tinyhar_session_kde.log\")\n",
    "        data = data.read()\n",
    "        \n",
    "        \n",
    "        # Regex to extract the results summary\n",
    "        pattern = re.compile(\n",
    "            r\"Initial Stage ALL Acc Mean: ([\\d.]+) Std: ([\\d.]+) F1 Mean: ([\\d.]+) Std: ([\\d.]+)\\n\"\n",
    "            r\"Before CL Seen Acc Mean: ([\\d.]+) Std: ([\\d.]+) F1 Mean: ([\\d.]+) Std: ([\\d.]+)\\n\"\n",
    "            r\"After CL Seen Acc Mean: ([\\d.]+) Std: ([\\d.]+) F1 Mean: ([\\d.]+) Std: ([\\d.]+)\\n\"\n",
    "            r\"After CL Unseen Acc Mean: ([\\d.]+) Std: ([\\d.]+) F1 Mean: ([\\d.]+) Std: ([\\d.]+)\\n\"\n",
    "            r\"After CL Overall Acc Mean: ([\\d.]+) Std: ([\\d.]+) F1 Mean: ([\\d.]+) Std: ([\\d.]+)\"\n",
    "        )\n",
    "\n",
    "\n",
    "        n_values = 20\n",
    "    # Extract the data\n",
    "        matches = pattern.search(data)\n",
    "\n",
    "        \n",
    "        print(\"\\nModel:\", model[model_idx])\n",
    "        \n",
    "        \n",
    "        if matches:\n",
    "            results_array = [float(matches.group(i)) for i in range(1, n_values+1)]\n",
    "            \n",
    "            formatted_results_array = [f\"{num:.4f}\" for num in results_array]\n",
    "            # Convert the array to a comma-separated string\n",
    "            results_string = ', '.join(map(str, formatted_results_array))\n",
    "            \n",
    "            # Print the results string (this can be copied and pasted into an Excel row)\n",
    "            # if(model_idx==0):\n",
    "            #     zeros_to_insert = [0.0, 0.0, 0.0, 0.0]\n",
    "            # # Insert the zeros after the 4th index\n",
    "            #     modified_list = formatted_results_array[:4] + zeros_to_insert + formatted_results_array[4:]\n",
    "            #     results_string = ', '.join(f\"{float(num):.4f}\" for num in modified_list)\n",
    "            print(results_string)\n",
    "        else:\n",
    "            print(\"No match found.\")\n",
    "    except:\n",
    "        print(f\"File for {model[model_idx]} not Found\")"
   ]
  },
  {
   "cell_type": "markdown",
   "metadata": {},
   "source": []
  },
  {
   "cell_type": "code",
   "execution_count": 2,
   "metadata": {
    "ExecuteTime": {
     "end_time": "2024-10-19T11:23:29.521468Z",
     "start_time": "2024-10-19T11:23:29.518695Z"
    }
   },
   "outputs": [
    {
     "name": "stdout",
     "output_type": "stream",
     "text": [
      "<_io.TextIOWrapper name='/netscratch/dmittal/continual_learning/Saved_Models/Incremental/Offline/mhealth/results_mhealth_tinyhar_session.log' mode='r' encoding='UTF-8'>\n"
     ]
    }
   ],
   "source": [
    "print(data)"
   ]
  },
  {
   "cell_type": "code",
   "execution_count": 3,
   "metadata": {
    "ExecuteTime": {
     "end_time": "2024-10-19T11:23:52.247962Z",
     "start_time": "2024-10-19T11:23:52.245249Z"
    }
   },
   "outputs": [
    {
     "name": "stdout",
     "output_type": "stream",
     "text": [
      "f\n"
     ]
    }
   ],
   "source": [
    "print(\"f\")\n",
    "\n"
   ]
  },
  {
   "cell_type": "code",
   "execution_count": null,
   "metadata": {
    "ExecuteTime": {
     "end_time": "2024-10-19T11:23:29.620722Z",
     "start_time": "2024-10-19T11:23:29.618765Z"
    }
   },
   "outputs": [],
   "source": []
  }
 ],
 "metadata": {
  "kernelspec": {
   "display_name": "Python 3",
   "language": "python",
   "name": "python3"
  },
  "language_info": {
   "codemirror_mode": {
    "name": "ipython",
    "version": 3
   },
   "file_extension": ".py",
   "mimetype": "text/x-python",
   "name": "python",
   "nbconvert_exporter": "python",
   "pygments_lexer": "ipython3",
   "version": "3.10.12"
  }
 },
 "nbformat": 4,
 "nbformat_minor": 4
}
