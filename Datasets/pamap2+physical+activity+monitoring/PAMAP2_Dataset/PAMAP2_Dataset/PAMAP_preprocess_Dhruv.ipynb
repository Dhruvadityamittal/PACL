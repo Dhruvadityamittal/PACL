{
 "cells": [
  {
   "cell_type": "code",
   "execution_count": 1,
   "metadata": {},
   "outputs": [],
   "source": [
    "import numpy as np\n",
    "from scipy import stats as s\n",
    "from scipy import constants"
   ]
  },
  {
   "cell_type": "code",
   "execution_count": 2,
   "metadata": {},
   "outputs": [
    {
     "name": "stdout",
     "output_type": "stream",
     "text": [
      "Loading Optional\n",
      "['0' '11' '18' '19' '9']\n",
      "['0' '10' '19']\n",
      "['0' '10' '18' '19']\n",
      "['0' '10' '18' '19' '20']\n",
      "['0' '10' '18' '19' '20']\n",
      "Loading Protocol\n",
      "['0' '1' '12' '13' '16' '17' '2' '24' '3' '4' '5' '6' '7']\n",
      "['0' '1' '12' '13' '16' '17' '2' '24' '3' '4' '5' '6' '7']\n",
      "['0' '1' '12' '13' '16' '17' '2' '3' '4']\n",
      "['0' '1' '12' '13' '16' '17' '2' '3' '4' '5' '6' '7']\n",
      "['0' '1' '12' '13' '16' '17' '2' '24' '3' '4' '5' '6' '7']\n",
      "['0' '1' '12' '13' '16' '17' '2' '24' '3' '4' '5' '6' '7']\n",
      "['0' '1' '12' '13' '16' '17' '2' '3' '4' '5' '6' '7']\n",
      "['0' '1' '12' '13' '16' '17' '2' '24' '3' '4' '5' '6' '7']\n",
      "['0' '24']\n"
     ]
    }
   ],
   "source": [
    "import os\n",
    "root_folder = 'Optional/'\n",
    "root_folder_files = os.listdir('Optional/')\n",
    "print(\"Loading Optional\")\n",
    "for root_folder_file in root_folder_files:\n",
    "    datContent = [i.strip().split() for i in open(root_folder + root_folder_file).readlines()]\n",
    "    datContent = np.array(datContent)\n",
    "    print(np.unique(datContent[:,1]))\n",
    "\n",
    "files_optional = [root_folder + root_folder_file  for root_folder_file in root_folder_files] \n",
    "\n",
    "print(\"Loading Protocol\")\n",
    "root_folder = 'Protocol/'\n",
    "root_folder_files = os.listdir('Protocol/')\n",
    "\n",
    "for root_folder_file in root_folder_files:\n",
    "    datContent = [i.strip().split() for i in open(root_folder + root_folder_file).readlines()]\n",
    "    datContent = np.array(datContent)\n",
    "    print(np.unique(datContent[:,1]))\n",
    "\n",
    "files_protocol= [root_folder + root_folder_file  for root_folder_file in root_folder_files] "
   ]
  },
  {
   "cell_type": "code",
   "execution_count": 3,
   "metadata": {},
   "outputs": [
    {
     "data": {
      "text/plain": [
       "['Protocol/subject101.dat',\n",
       " 'Protocol/subject102.dat',\n",
       " 'Protocol/subject103.dat',\n",
       " 'Protocol/subject104.dat',\n",
       " 'Protocol/subject105.dat',\n",
       " 'Protocol/subject106.dat',\n",
       " 'Protocol/subject107.dat',\n",
       " 'Protocol/subject108.dat',\n",
       " 'Protocol/subject109.dat',\n",
       " 'Optional/subject101.dat',\n",
       " 'Optional/subject105.dat',\n",
       " 'Optional/subject106.dat',\n",
       " 'Optional/subject108.dat',\n",
       " 'Optional/subject109.dat']"
      ]
     },
     "execution_count": 3,
     "metadata": {},
     "output_type": "execute_result"
    }
   ],
   "source": [
    "all_files = files_protocol + files_optional  \n",
    "all_files"
   ]
  },
  {
   "cell_type": "code",
   "execution_count": 4,
   "metadata": {},
   "outputs": [],
   "source": [
    "# Protocol Classes : ['0' '1' '12' '13' '16' '17' '2' '24' '3' '4' '5' '6' '7', '24']\n",
    "# Optional Classes : ['0' '10' '18' '19' '20', '11', '9']"
   ]
  },
  {
   "cell_type": "code",
   "execution_count": null,
   "metadata": {},
   "outputs": [],
   "source": [
    "\n"
   ]
  },
  {
   "cell_type": "code",
   "execution_count": 5,
   "metadata": {},
   "outputs": [],
   "source": [
    "WINDOW_SEC = 2\n",
    "WINDOW_OVERLAP_SEC = 0.5\n",
    "DEVICE_HZ = 100\n",
    "WINDOW_LEN = WINDOW_SEC* DEVICE_HZ\n",
    "WINDOW_OVERLAP_LEN = int(DEVICE_HZ * WINDOW_OVERLAP_SEC)\n",
    "WINDOW_STEP_LEN = WINDOW_LEN - WINDOW_OVERLAP_LEN\n",
    "\n",
    "X = []\n",
    "Y = []\n",
    "pid = []\n",
    "\n",
    "label_idx = 1\n",
    "timestamp_idx = 0  # idx 2-> Heart rate idx 3 ->IMU Hand Temperature \n",
    "x_idx_1, y_idx_1, z_idx_1 = 4, 5, 6\n",
    "x_idx_2, y_idx_2, z_idx_2 = 21, 22, 23\n",
    "x_idx_3, y_idx_3, z_idx_3 = 38, 39, 40\n",
    "\n",
    "\n",
    "for data_file in all_files[0:]:\n",
    "    datContent = [i.strip().split() for i in open(data_file).readlines()]\n",
    "    datContent = np.array(datContent)\n",
    "    \n",
    "\n",
    "    datContent = datContent[:,[timestamp_idx, label_idx, x_idx_1, y_idx_1, z_idx_1, x_idx_2, y_idx_2, z_idx_2, x_idx_3, y_idx_3, z_idx_3]]\n",
    "    datContent = datContent.astype(float)\n",
    "\n",
    "    datContent = datContent[~np.isnan(datContent).any(axis=1)]\n",
    "    \n",
    "\n",
    "    person_id = data_file.split('/')[1].strip().split('.dat')[0].strip().split('subject')[1]\n",
    "    \n",
    "\n",
    "    for i in range(0, len(datContent),WINDOW_STEP_LEN ):\n",
    "        if(datContent[i: i+ WINDOW_LEN, [2, 3,4, 5,6,  7, 8,9, 10 ]].shape[0] == WINDOW_LEN):\n",
    "            X.append(datContent[i: i+ WINDOW_LEN, [2, 3,4, 5,6,  7, 8,9, 10 ]])  #x_idx_2, y_idx_2, z_idx_2, x_idx_3, y_idx_3, z_idx_3\n",
    "            Y.append(datContent[i: i+ WINDOW_LEN, 1])\n",
    "            pid.append(person_id)\n",
    "    \n",
    "\n",
    "X = np.array(X)\n",
    "Y = np.array(Y)\n",
    "pid = np.array(pid)"
   ]
  },
  {
   "cell_type": "code",
   "execution_count": 6,
   "metadata": {},
   "outputs": [],
   "source": [
    "def clean_up_label(X, labels, pid):\n",
    "    # 1. remove rows with >50% zeros\n",
    "    \n",
    "    sample_count_per_row = labels.shape[1]  # number of windows\n",
    "\n",
    "    rows2keep = np.ones(labels.shape[0], dtype=bool)\n",
    "    transition_class = 0\n",
    "    for i in range(labels.shape[0]):\n",
    "        row = labels[i, :]\n",
    "        if np.sum(row == transition_class) > 0.5 * sample_count_per_row:\n",
    "            rows2keep[i] = False\n",
    "\n",
    "    labels = labels[rows2keep]\n",
    "    X = X[rows2keep]\n",
    "    pid = pid[rows2keep]\n",
    "\n",
    "    \n",
    "    # 2. majority voting for label in each epoch\n",
    "    final_labels = []\n",
    "    for i in range(labels.shape[0]):\n",
    "        row = labels[i, :]\n",
    "        final_labels.append(s.mode(row)[0])\n",
    "    final_labels = np.array(final_labels, dtype=int)\n",
    "\n",
    "    final_label_filter = (final_labels!=0)\n",
    "\n",
    "    X = X[final_label_filter]\n",
    "    \n",
    "    final_labels = final_labels[final_label_filter]\n",
    "    pid = pid[final_label_filter]\n",
    "\n",
    "    # print(\"Clean X shape: \", X.shape)\n",
    "    # print(\"Clean y shape: \", final_labels.shape)\n",
    "    return X, final_labels, pid\n",
    "\n",
    "current_X, current_y, current_pid = clean_up_label(X, Y, pid)\n",
    "\n",
    "current_y = current_y.flatten()\n",
    "current_X = current_X / constants.g\n",
    "\n",
    "# For standardizing.\n",
    "\n",
    "# current_X = np.array(current_X, dtype=np.float32)\n",
    "# m = np.mean(current_X, axis=0)\n",
    "# current_X -= m\n",
    "# std = np.std(current_X, axis=0)\n",
    "# std += 0.000001\n",
    "# current_X /= (std * 2)  # 2 is for having smaller values\n",
    "\n",
    "\n",
    "\n",
    "# clip_value = 3\n",
    "# current_X = np.clip(current_X, -clip_value, clip_value)"
   ]
  },
  {
   "cell_type": "code",
   "execution_count": 7,
   "metadata": {},
   "outputs": [
    {
     "name": "stdout",
     "output_type": "stream",
     "text": [
      "(18004, 200, 9) (18004,) (18004,)\n"
     ]
    }
   ],
   "source": [
    "print(current_X.shape, current_y.shape, current_pid.shape)"
   ]
  },
  {
   "cell_type": "code",
   "execution_count": 8,
   "metadata": {},
   "outputs": [
    {
     "data": {
      "text/plain": [
       "numpy.ndarray"
      ]
     },
     "execution_count": 8,
     "metadata": {},
     "output_type": "execute_result"
    }
   ],
   "source": [
    "type(current_X[88])\n",
    "# current_X[88].shape"
   ]
  },
  {
   "cell_type": "code",
   "execution_count": 9,
   "metadata": {},
   "outputs": [
    {
     "data": {
      "text/plain": [
       "Counter({10: 2063,\n",
       "         17: 1586,\n",
       "         4: 1531,\n",
       "         1: 1281,\n",
       "         3: 1260,\n",
       "         19: 1243,\n",
       "         7: 1232,\n",
       "         2: 1229,\n",
       "         16: 1167,\n",
       "         6: 1089,\n",
       "         12: 782,\n",
       "         13: 697,\n",
       "         18: 664,\n",
       "         5: 636,\n",
       "         9: 557,\n",
       "         11: 363,\n",
       "         24: 318,\n",
       "         20: 306})"
      ]
     },
     "execution_count": 9,
     "metadata": {},
     "output_type": "execute_result"
    }
   ],
   "source": [
    "import collections\n",
    "counter = collections.Counter(current_y)\n",
    "counter"
   ]
  },
  {
   "cell_type": "code",
   "execution_count": 10,
   "metadata": {},
   "outputs": [],
   "source": [
    "np.save('new_X.npy', current_X)\n",
    "np.save('new_Y.npy', current_y)\n",
    "np.save('new_pid.npy', current_pid)"
   ]
  },
  {
   "cell_type": "code",
   "execution_count": 11,
   "metadata": {},
   "outputs": [
    {
     "data": {
      "text/plain": [
       "array([ 1,  2,  3,  4,  5,  6,  7,  9, 10, 11, 12, 13, 16, 17, 18, 19, 20,\n",
       "       24])"
      ]
     },
     "execution_count": 11,
     "metadata": {},
     "output_type": "execute_result"
    }
   ],
   "source": [
    "np.unique(current_y)"
   ]
  },
  {
   "cell_type": "code",
   "execution_count": null,
   "metadata": {},
   "outputs": [],
   "source": []
  }
 ],
 "metadata": {
  "kernelspec": {
   "display_name": "base",
   "language": "python",
   "name": "python3"
  },
  "language_info": {
   "codemirror_mode": {
    "name": "ipython",
    "version": 3
   },
   "file_extension": ".py",
   "mimetype": "text/x-python",
   "name": "python",
   "nbconvert_exporter": "python",
   "pygments_lexer": "ipython3",
   "version": "3.12.3"
  }
 },
 "nbformat": 4,
 "nbformat_minor": 2
}
